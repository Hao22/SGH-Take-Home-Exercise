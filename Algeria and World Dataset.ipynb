{
 "cells": [
  {
   "cell_type": "markdown",
   "id": "291f791e",
   "metadata": {},
   "source": [
    "# SGH Take Home Exercise"
   ]
  },
  {
   "cell_type": "markdown",
   "id": "20d86f59",
   "metadata": {},
   "source": [
    "Data source: https://www.kaggle.com/datasets/sambelkacem/covid19-algeria-and-world-dataset"
   ]
  },
  {
   "cell_type": "markdown",
   "id": "6cc7e59e",
   "metadata": {},
   "source": [
    "## Import libraries and datasets"
   ]
  },
  {
   "cell_type": "code",
   "execution_count": 1,
   "id": "d8e3b701",
   "metadata": {},
   "outputs": [],
   "source": [
    "#import libraries\n",
    "import numpy as np\n",
    "import pandas as pd\n",
    "import matplotlib.pyplot as plt\n",
    "import seaborn as sns\n",
    "\n",
    "#set notebook parameters\n",
    "pd.set_option('display.max_columns', None)\n",
    "pd.set_option('display.max_rows', None)\n",
    "pd.set_option('max_colwidth', 60)"
   ]
  },
  {
   "cell_type": "code",
   "execution_count": 2,
   "id": "4722bffc",
   "metadata": {},
   "outputs": [],
   "source": [
    "#import datasets\n",
    "df = pd.read_csv(\"Data.csv\")"
   ]
  },
  {
   "cell_type": "code",
   "execution_count": 3,
   "id": "b8130c0f",
   "metadata": {},
   "outputs": [
    {
     "data": {
      "text/plain": [
       "(38472, 15)"
      ]
     },
     "execution_count": 3,
     "metadata": {},
     "output_type": "execute_result"
    }
   ],
   "source": [
    "#check dataset size\n",
    "df.shape"
   ]
  },
  {
   "cell_type": "markdown",
   "id": "41a8f566",
   "metadata": {},
   "source": [
    "## Data Cleaning"
   ]
  },
  {
   "cell_type": "code",
   "execution_count": 4,
   "id": "64093bd5",
   "metadata": {},
   "outputs": [
    {
     "name": "stdout",
     "output_type": "stream",
     "text": [
      "<class 'pandas.core.frame.DataFrame'>\n",
      "RangeIndex: 38472 entries, 0 to 38471\n",
      "Data columns (total 15 columns):\n",
      " #   Column                           Non-Null Count  Dtype  \n",
      "---  ------                           --------------  -----  \n",
      " 0   Entity                           38472 non-null  object \n",
      " 1   Continent                        38472 non-null  object \n",
      " 2   Latitude                         38472 non-null  float64\n",
      " 3   Longitude                        38472 non-null  float64\n",
      " 4   Average temperature per year     38472 non-null  int64  \n",
      " 5   Hospital beds per 1000 people    38472 non-null  float64\n",
      " 6   Medical doctors per 1000 people  38472 non-null  float64\n",
      " 7   GDP/Capita                       38472 non-null  float64\n",
      " 8   Population                       38472 non-null  int64  \n",
      " 9   Median age                       38472 non-null  int64  \n",
      " 10  Population aged 65 and over (%)  38472 non-null  int64  \n",
      " 11  Date                             38472 non-null  object \n",
      " 12  Daily tests                      30577 non-null  float64\n",
      " 13  Cases                            38218 non-null  float64\n",
      " 14  Deaths                           34862 non-null  float64\n",
      "dtypes: float64(8), int64(4), object(3)\n",
      "memory usage: 4.4+ MB\n"
     ]
    }
   ],
   "source": [
    "df.info()"
   ]
  },
  {
   "cell_type": "code",
   "execution_count": 5,
   "id": "3e70a36f",
   "metadata": {},
   "outputs": [],
   "source": [
    "#convert Date to datetime format\n",
    "df['Date'] = pd.to_datetime(df['Date'])"
   ]
  },
  {
   "cell_type": "code",
   "execution_count": 6,
   "id": "c8ddb00f",
   "metadata": {},
   "outputs": [
    {
     "name": "stdout",
     "output_type": "stream",
     "text": [
      "2020-01-01 00:00:00\n",
      "2021-02-28 00:00:00\n"
     ]
    }
   ],
   "source": [
    "print(df['Date'].min())\n",
    "print(df['Date'].max())"
   ]
  },
  {
   "cell_type": "markdown",
   "id": "7bea9901",
   "metadata": {},
   "source": [
    "The dataset was collected from 1 Jan 2020 to 28 Feb 2021."
   ]
  },
  {
   "cell_type": "code",
   "execution_count": 7,
   "id": "e2bd0f20",
   "metadata": {},
   "outputs": [
    {
     "data": {
      "text/plain": [
       "Entity                                0\n",
       "Continent                             0\n",
       "Latitude                              0\n",
       "Longitude                             0\n",
       "Average temperature per year          0\n",
       "Hospital beds per 1000 people         0\n",
       "Medical doctors per 1000 people       0\n",
       "GDP/Capita                            0\n",
       "Population                            0\n",
       "Median age                            0\n",
       "Population aged 65 and over (%)       0\n",
       "Date                                  0\n",
       "Daily tests                        7895\n",
       "Cases                               254\n",
       "Deaths                             3610\n",
       "dtype: int64"
      ]
     },
     "execution_count": 7,
     "metadata": {},
     "output_type": "execute_result"
    }
   ],
   "source": [
    "df.isnull().sum()"
   ]
  },
  {
   "cell_type": "markdown",
   "id": "ef619dc6",
   "metadata": {},
   "source": [
    "There were 3 feature columns with null values. The most plausible reason would be that there were no tests/cases/deaths, and hence no data collected. We will investigate further before deciding on further actions."
   ]
  },
  {
   "cell_type": "code",
   "execution_count": 8,
   "id": "107689e1",
   "metadata": {},
   "outputs": [
    {
     "data": {
      "text/html": [
       "<div>\n",
       "<style scoped>\n",
       "    .dataframe tbody tr th:only-of-type {\n",
       "        vertical-align: middle;\n",
       "    }\n",
       "\n",
       "    .dataframe tbody tr th {\n",
       "        vertical-align: top;\n",
       "    }\n",
       "\n",
       "    .dataframe thead th {\n",
       "        text-align: right;\n",
       "    }\n",
       "</style>\n",
       "<table border=\"1\" class=\"dataframe\">\n",
       "  <thead>\n",
       "    <tr style=\"text-align: right;\">\n",
       "      <th></th>\n",
       "      <th>Entity</th>\n",
       "      <th>Continent</th>\n",
       "      <th>Latitude</th>\n",
       "      <th>Longitude</th>\n",
       "      <th>Average temperature per year</th>\n",
       "      <th>Hospital beds per 1000 people</th>\n",
       "      <th>Medical doctors per 1000 people</th>\n",
       "      <th>GDP/Capita</th>\n",
       "      <th>Population</th>\n",
       "      <th>Median age</th>\n",
       "      <th>Population aged 65 and over (%)</th>\n",
       "      <th>Date</th>\n",
       "      <th>Daily tests</th>\n",
       "      <th>Cases</th>\n",
       "      <th>Deaths</th>\n",
       "    </tr>\n",
       "  </thead>\n",
       "  <tbody>\n",
       "  </tbody>\n",
       "</table>\n",
       "</div>"
      ],
      "text/plain": [
       "Empty DataFrame\n",
       "Columns: [Entity, Continent, Latitude, Longitude, Average temperature per year, Hospital beds per 1000 people, Medical doctors per 1000 people, GDP/Capita, Population, Median age, Population aged 65 and over (%), Date, Daily tests, Cases, Deaths]\n",
       "Index: []"
      ]
     },
     "execution_count": 8,
     "metadata": {},
     "output_type": "execute_result"
    }
   ],
   "source": [
    "df[df['Daily tests']==0]"
   ]
  },
  {
   "cell_type": "code",
   "execution_count": 9,
   "id": "0f6d0215",
   "metadata": {},
   "outputs": [
    {
     "data": {
      "text/html": [
       "<div>\n",
       "<style scoped>\n",
       "    .dataframe tbody tr th:only-of-type {\n",
       "        vertical-align: middle;\n",
       "    }\n",
       "\n",
       "    .dataframe tbody tr th {\n",
       "        vertical-align: top;\n",
       "    }\n",
       "\n",
       "    .dataframe thead th {\n",
       "        text-align: right;\n",
       "    }\n",
       "</style>\n",
       "<table border=\"1\" class=\"dataframe\">\n",
       "  <thead>\n",
       "    <tr style=\"text-align: right;\">\n",
       "      <th></th>\n",
       "      <th>Entity</th>\n",
       "      <th>Continent</th>\n",
       "      <th>Latitude</th>\n",
       "      <th>Longitude</th>\n",
       "      <th>Average temperature per year</th>\n",
       "      <th>Hospital beds per 1000 people</th>\n",
       "      <th>Medical doctors per 1000 people</th>\n",
       "      <th>GDP/Capita</th>\n",
       "      <th>Population</th>\n",
       "      <th>Median age</th>\n",
       "      <th>Population aged 65 and over (%)</th>\n",
       "      <th>Date</th>\n",
       "      <th>Daily tests</th>\n",
       "      <th>Cases</th>\n",
       "      <th>Deaths</th>\n",
       "    </tr>\n",
       "  </thead>\n",
       "  <tbody>\n",
       "  </tbody>\n",
       "</table>\n",
       "</div>"
      ],
      "text/plain": [
       "Empty DataFrame\n",
       "Columns: [Entity, Continent, Latitude, Longitude, Average temperature per year, Hospital beds per 1000 people, Medical doctors per 1000 people, GDP/Capita, Population, Median age, Population aged 65 and over (%), Date, Daily tests, Cases, Deaths]\n",
       "Index: []"
      ]
     },
     "execution_count": 9,
     "metadata": {},
     "output_type": "execute_result"
    }
   ],
   "source": [
    "df[df['Cases']==0]"
   ]
  },
  {
   "cell_type": "code",
   "execution_count": 10,
   "id": "7f2df865",
   "metadata": {},
   "outputs": [
    {
     "data": {
      "text/html": [
       "<div>\n",
       "<style scoped>\n",
       "    .dataframe tbody tr th:only-of-type {\n",
       "        vertical-align: middle;\n",
       "    }\n",
       "\n",
       "    .dataframe tbody tr th {\n",
       "        vertical-align: top;\n",
       "    }\n",
       "\n",
       "    .dataframe thead th {\n",
       "        text-align: right;\n",
       "    }\n",
       "</style>\n",
       "<table border=\"1\" class=\"dataframe\">\n",
       "  <thead>\n",
       "    <tr style=\"text-align: right;\">\n",
       "      <th></th>\n",
       "      <th>Entity</th>\n",
       "      <th>Continent</th>\n",
       "      <th>Latitude</th>\n",
       "      <th>Longitude</th>\n",
       "      <th>Average temperature per year</th>\n",
       "      <th>Hospital beds per 1000 people</th>\n",
       "      <th>Medical doctors per 1000 people</th>\n",
       "      <th>GDP/Capita</th>\n",
       "      <th>Population</th>\n",
       "      <th>Median age</th>\n",
       "      <th>Population aged 65 and over (%)</th>\n",
       "      <th>Date</th>\n",
       "      <th>Daily tests</th>\n",
       "      <th>Cases</th>\n",
       "      <th>Deaths</th>\n",
       "    </tr>\n",
       "  </thead>\n",
       "  <tbody>\n",
       "  </tbody>\n",
       "</table>\n",
       "</div>"
      ],
      "text/plain": [
       "Empty DataFrame\n",
       "Columns: [Entity, Continent, Latitude, Longitude, Average temperature per year, Hospital beds per 1000 people, Medical doctors per 1000 people, GDP/Capita, Population, Median age, Population aged 65 and over (%), Date, Daily tests, Cases, Deaths]\n",
       "Index: []"
      ]
     },
     "execution_count": 10,
     "metadata": {},
     "output_type": "execute_result"
    }
   ],
   "source": [
    "df[df['Deaths']==0]"
   ]
  },
  {
   "cell_type": "markdown",
   "id": "80479e9b",
   "metadata": {},
   "source": [
    "There were indeed no '0' values in these columns, which made it more likely that the null values were due to no test/cases/deaths. Hence, we will replace the null values with '0' for better representation."
   ]
  },
  {
   "cell_type": "code",
   "execution_count": 11,
   "id": "0bebda14",
   "metadata": {},
   "outputs": [],
   "source": [
    "df.fillna(value=0, inplace=True)"
   ]
  },
  {
   "cell_type": "markdown",
   "id": "6f6bd8fc",
   "metadata": {},
   "source": [
    "## Visualization 1: Top 10 countries by highest number of cases"
   ]
  },
  {
   "cell_type": "code",
   "execution_count": 12,
   "id": "cc79001e",
   "metadata": {},
   "outputs": [
    {
     "data": {
      "text/html": [
       "<div>\n",
       "<style scoped>\n",
       "    .dataframe tbody tr th:only-of-type {\n",
       "        vertical-align: middle;\n",
       "    }\n",
       "\n",
       "    .dataframe tbody tr th {\n",
       "        vertical-align: top;\n",
       "    }\n",
       "\n",
       "    .dataframe thead th {\n",
       "        text-align: right;\n",
       "    }\n",
       "</style>\n",
       "<table border=\"1\" class=\"dataframe\">\n",
       "  <thead>\n",
       "    <tr style=\"text-align: right;\">\n",
       "      <th></th>\n",
       "      <th>Entity</th>\n",
       "      <th>Continent</th>\n",
       "      <th>Latitude</th>\n",
       "      <th>Longitude</th>\n",
       "      <th>Average temperature per year</th>\n",
       "      <th>Hospital beds per 1000 people</th>\n",
       "      <th>Medical doctors per 1000 people</th>\n",
       "      <th>GDP/Capita</th>\n",
       "      <th>Population</th>\n",
       "      <th>Median age</th>\n",
       "      <th>Population aged 65 and over (%)</th>\n",
       "      <th>Date</th>\n",
       "      <th>Daily tests</th>\n",
       "      <th>Cases</th>\n",
       "      <th>Deaths</th>\n",
       "    </tr>\n",
       "  </thead>\n",
       "  <tbody>\n",
       "    <tr>\n",
       "      <th>0</th>\n",
       "      <td>United States</td>\n",
       "      <td>North America</td>\n",
       "      <td>37.09</td>\n",
       "      <td>-95.71</td>\n",
       "      <td>11</td>\n",
       "      <td>2.77</td>\n",
       "      <td>2.57</td>\n",
       "      <td>65297.5</td>\n",
       "      <td>325719178</td>\n",
       "      <td>38</td>\n",
       "      <td>16</td>\n",
       "      <td>2021-02-28</td>\n",
       "      <td>2238400.0</td>\n",
       "      <td>28605669.0</td>\n",
       "      <td>513091.0</td>\n",
       "    </tr>\n",
       "    <tr>\n",
       "      <th>1</th>\n",
       "      <td>India</td>\n",
       "      <td>Asia</td>\n",
       "      <td>20.59</td>\n",
       "      <td>78.96</td>\n",
       "      <td>25</td>\n",
       "      <td>0.53</td>\n",
       "      <td>0.76</td>\n",
       "      <td>2099.6</td>\n",
       "      <td>1339180127</td>\n",
       "      <td>28</td>\n",
       "      <td>6</td>\n",
       "      <td>2021-02-28</td>\n",
       "      <td>1492409.0</td>\n",
       "      <td>11112241.0</td>\n",
       "      <td>157157.0</td>\n",
       "    </tr>\n",
       "    <tr>\n",
       "      <th>2</th>\n",
       "      <td>Russia</td>\n",
       "      <td>Asia</td>\n",
       "      <td>61.52</td>\n",
       "      <td>105.32</td>\n",
       "      <td>-2</td>\n",
       "      <td>8.05</td>\n",
       "      <td>3.98</td>\n",
       "      <td>11585.0</td>\n",
       "      <td>144495044</td>\n",
       "      <td>39</td>\n",
       "      <td>15</td>\n",
       "      <td>2021-02-28</td>\n",
       "      <td>648370.0</td>\n",
       "      <td>4198400.0</td>\n",
       "      <td>84700.0</td>\n",
       "    </tr>\n",
       "    <tr>\n",
       "      <th>3</th>\n",
       "      <td>United Kingdom</td>\n",
       "      <td>Europe</td>\n",
       "      <td>55.38</td>\n",
       "      <td>-3.44</td>\n",
       "      <td>8</td>\n",
       "      <td>2.54</td>\n",
       "      <td>2.82</td>\n",
       "      <td>42330.1</td>\n",
       "      <td>66022273</td>\n",
       "      <td>40</td>\n",
       "      <td>18</td>\n",
       "      <td>2021-02-28</td>\n",
       "      <td>801949.0</td>\n",
       "      <td>4188827.0</td>\n",
       "      <td>123083.0</td>\n",
       "    </tr>\n",
       "    <tr>\n",
       "      <th>4</th>\n",
       "      <td>France</td>\n",
       "      <td>Europe</td>\n",
       "      <td>46.23</td>\n",
       "      <td>2.21</td>\n",
       "      <td>13</td>\n",
       "      <td>5.98</td>\n",
       "      <td>3.24</td>\n",
       "      <td>40493.9</td>\n",
       "      <td>67118648</td>\n",
       "      <td>42</td>\n",
       "      <td>20</td>\n",
       "      <td>2021-02-28</td>\n",
       "      <td>739281.0</td>\n",
       "      <td>3747263.0</td>\n",
       "      <td>85741.0</td>\n",
       "    </tr>\n",
       "  </tbody>\n",
       "</table>\n",
       "</div>"
      ],
      "text/plain": [
       "           Entity      Continent  Latitude  Longitude  \\\n",
       "0   United States  North America     37.09     -95.71   \n",
       "1           India           Asia     20.59      78.96   \n",
       "2          Russia           Asia     61.52     105.32   \n",
       "3  United Kingdom         Europe     55.38      -3.44   \n",
       "4          France         Europe     46.23       2.21   \n",
       "\n",
       "   Average temperature per year  Hospital beds per 1000 people  \\\n",
       "0                            11                           2.77   \n",
       "1                            25                           0.53   \n",
       "2                            -2                           8.05   \n",
       "3                             8                           2.54   \n",
       "4                            13                           5.98   \n",
       "\n",
       "   Medical doctors per 1000 people  GDP/Capita  Population  Median age  \\\n",
       "0                             2.57     65297.5   325719178          38   \n",
       "1                             0.76      2099.6  1339180127          28   \n",
       "2                             3.98     11585.0   144495044          39   \n",
       "3                             2.82     42330.1    66022273          40   \n",
       "4                             3.24     40493.9    67118648          42   \n",
       "\n",
       "   Population aged 65 and over (%)       Date  Daily tests       Cases  \\\n",
       "0                               16 2021-02-28    2238400.0  28605669.0   \n",
       "1                                6 2021-02-28    1492409.0  11112241.0   \n",
       "2                               15 2021-02-28     648370.0   4198400.0   \n",
       "3                               18 2021-02-28     801949.0   4188827.0   \n",
       "4                               20 2021-02-28     739281.0   3747263.0   \n",
       "\n",
       "     Deaths  \n",
       "0  513091.0  \n",
       "1  157157.0  \n",
       "2   84700.0  \n",
       "3  123083.0  \n",
       "4   85741.0  "
      ]
     },
     "execution_count": 12,
     "metadata": {},
     "output_type": "execute_result"
    }
   ],
   "source": [
    "df2 = df.copy()\n",
    "df2 = df2.groupby('Entity').max().sort_values(by='Cases',ascending=False)[:10].reset_index()\n",
    "df2.head()"
   ]
  },
  {
   "cell_type": "code",
   "execution_count": 13,
   "id": "cd194e4b",
   "metadata": {
    "scrolled": true
   },
   "outputs": [
    {
     "data": {
      "image/png": "[encoded data removed]",
      "text/plain": [
       "<Figure size 1008x576 with 1 Axes>"
      ]
     },
     "metadata": {
      "needs_background": "light"
     },
     "output_type": "display_data"
    }
   ],
   "source": [
    "#top 10 countries by highest number of cases\n",
    "plt.figure(figsize=(14,8))\n",
    "\n",
    "plt.barh(df2['Entity'], \n",
    "        df2['Cases'])\n",
    "\n",
    "plt.xlabel('Total number of cases')\n",
    "plt.ylabel('Country')\n",
    "plt.title('Top 10 countries by highest number of cases');"
   ]
  },
  {
   "cell_type": "markdown",
   "id": "9cce5127",
   "metadata": {},
   "source": [
    "\n"
   ]
  },
  {
   "cell_type": "markdown",
   "id": "d180b9b9",
   "metadata": {},
   "source": [
    "United States had the highest number of COVID-19 cases with approximately 2.86 million, followed by India and Russia."
   ]
  },
  {
   "cell_type": "markdown",
   "id": "80f54e22",
   "metadata": {},
   "source": [
    "## Visualization 2: Top 10 countries by number of deaths"
   ]
  },
  {
   "cell_type": "code",
   "execution_count": 14,
   "id": "d03369c0",
   "metadata": {
    "scrolled": true
   },
   "outputs": [
    {
     "data": {
      "text/html": [
       "<div>\n",
       "<style scoped>\n",
       "    .dataframe tbody tr th:only-of-type {\n",
       "        vertical-align: middle;\n",
       "    }\n",
       "\n",
       "    .dataframe tbody tr th {\n",
       "        vertical-align: top;\n",
       "    }\n",
       "\n",
       "    .dataframe thead th {\n",
       "        text-align: right;\n",
       "    }\n",
       "</style>\n",
       "<table border=\"1\" class=\"dataframe\">\n",
       "  <thead>\n",
       "    <tr style=\"text-align: right;\">\n",
       "      <th></th>\n",
       "      <th>Entity</th>\n",
       "      <th>Continent</th>\n",
       "      <th>Latitude</th>\n",
       "      <th>Longitude</th>\n",
       "      <th>Average temperature per year</th>\n",
       "      <th>Hospital beds per 1000 people</th>\n",
       "      <th>Medical doctors per 1000 people</th>\n",
       "      <th>GDP/Capita</th>\n",
       "      <th>Population</th>\n",
       "      <th>Median age</th>\n",
       "      <th>Population aged 65 and over (%)</th>\n",
       "      <th>Date</th>\n",
       "      <th>Daily tests</th>\n",
       "      <th>Cases</th>\n",
       "      <th>Deaths</th>\n",
       "    </tr>\n",
       "  </thead>\n",
       "  <tbody>\n",
       "    <tr>\n",
       "      <th>0</th>\n",
       "      <td>United States</td>\n",
       "      <td>North America</td>\n",
       "      <td>37.09</td>\n",
       "      <td>-95.71</td>\n",
       "      <td>11</td>\n",
       "      <td>2.77</td>\n",
       "      <td>2.57</td>\n",
       "      <td>65297.5</td>\n",
       "      <td>325719178</td>\n",
       "      <td>38</td>\n",
       "      <td>16</td>\n",
       "      <td>2021-02-28</td>\n",
       "      <td>2238400.0</td>\n",
       "      <td>28605669.0</td>\n",
       "      <td>513091.0</td>\n",
       "    </tr>\n",
       "    <tr>\n",
       "      <th>1</th>\n",
       "      <td>Mexico</td>\n",
       "      <td>North America</td>\n",
       "      <td>23.63</td>\n",
       "      <td>-102.55</td>\n",
       "      <td>22</td>\n",
       "      <td>1.38</td>\n",
       "      <td>2.23</td>\n",
       "      <td>9946.0</td>\n",
       "      <td>129163276</td>\n",
       "      <td>29</td>\n",
       "      <td>7</td>\n",
       "      <td>2021-02-28</td>\n",
       "      <td>46498.0</td>\n",
       "      <td>2086938.0</td>\n",
       "      <td>185715.0</td>\n",
       "    </tr>\n",
       "    <tr>\n",
       "      <th>2</th>\n",
       "      <td>India</td>\n",
       "      <td>Asia</td>\n",
       "      <td>20.59</td>\n",
       "      <td>78.96</td>\n",
       "      <td>25</td>\n",
       "      <td>0.53</td>\n",
       "      <td>0.76</td>\n",
       "      <td>2099.6</td>\n",
       "      <td>1339180127</td>\n",
       "      <td>28</td>\n",
       "      <td>6</td>\n",
       "      <td>2021-02-28</td>\n",
       "      <td>1492409.0</td>\n",
       "      <td>11112241.0</td>\n",
       "      <td>157157.0</td>\n",
       "    </tr>\n",
       "    <tr>\n",
       "      <th>3</th>\n",
       "      <td>United Kingdom</td>\n",
       "      <td>Europe</td>\n",
       "      <td>55.38</td>\n",
       "      <td>-3.44</td>\n",
       "      <td>8</td>\n",
       "      <td>2.54</td>\n",
       "      <td>2.82</td>\n",
       "      <td>42330.1</td>\n",
       "      <td>66022273</td>\n",
       "      <td>40</td>\n",
       "      <td>18</td>\n",
       "      <td>2021-02-28</td>\n",
       "      <td>801949.0</td>\n",
       "      <td>4188827.0</td>\n",
       "      <td>123083.0</td>\n",
       "    </tr>\n",
       "    <tr>\n",
       "      <th>4</th>\n",
       "      <td>Italy</td>\n",
       "      <td>Europe</td>\n",
       "      <td>41.87</td>\n",
       "      <td>12.57</td>\n",
       "      <td>14</td>\n",
       "      <td>3.18</td>\n",
       "      <td>4.02</td>\n",
       "      <td>33228.2</td>\n",
       "      <td>60551416</td>\n",
       "      <td>47</td>\n",
       "      <td>23</td>\n",
       "      <td>2021-02-28</td>\n",
       "      <td>353704.0</td>\n",
       "      <td>2925265.0</td>\n",
       "      <td>97699.0</td>\n",
       "    </tr>\n",
       "  </tbody>\n",
       "</table>\n",
       "</div>"
      ],
      "text/plain": [
       "           Entity      Continent  Latitude  Longitude  \\\n",
       "0   United States  North America     37.09     -95.71   \n",
       "1          Mexico  North America     23.63    -102.55   \n",
       "2           India           Asia     20.59      78.96   \n",
       "3  United Kingdom         Europe     55.38      -3.44   \n",
       "4           Italy         Europe     41.87      12.57   \n",
       "\n",
       "   Average temperature per year  Hospital beds per 1000 people  \\\n",
       "0                            11                           2.77   \n",
       "1                            22                           1.38   \n",
       "2                            25                           0.53   \n",
       "3                             8                           2.54   \n",
       "4                            14                           3.18   \n",
       "\n",
       "   Medical doctors per 1000 people  GDP/Capita  Population  Median age  \\\n",
       "0                             2.57     65297.5   325719178          38   \n",
       "1                             2.23      9946.0   129163276          29   \n",
       "2                             0.76      2099.6  1339180127          28   \n",
       "3                             2.82     42330.1    66022273          40   \n",
       "4                             4.02     33228.2    60551416          47   \n",
       "\n",
       "   Population aged 65 and over (%)       Date  Daily tests       Cases  \\\n",
       "0                               16 2021-02-28    2238400.0  28605669.0   \n",
       "1                                7 2021-02-28      46498.0   2086938.0   \n",
       "2                                6 2021-02-28    1492409.0  11112241.0   \n",
       "3                               18 2021-02-28     801949.0   4188827.0   \n",
       "4                               23 2021-02-28     353704.0   2925265.0   \n",
       "\n",
       "     Deaths  \n",
       "0  513091.0  \n",
       "1  185715.0  \n",
       "2  157157.0  \n",
       "3  123083.0  \n",
       "4   97699.0  "
      ]
     },
     "execution_count": 14,
     "metadata": {},
     "output_type": "execute_result"
    }
   ],
   "source": [
    "df3 = df.copy()\n",
    "df3 = df3.groupby('Entity').max().sort_values(by='Deaths',ascending=False)[:10].reset_index()\n",
    "df3.head()"
   ]
  },
  {
   "cell_type": "code",
   "execution_count": 15,
   "id": "266f988f",
   "metadata": {},
   "outputs": [
    {
     "data": {
      "image/png": "[encoded data removed]",
      "text/plain": [
       "<Figure size 1008x576 with 1 Axes>"
      ]
     },
     "metadata": {
      "needs_background": "light"
     },
     "output_type": "display_data"
    }
   ],
   "source": [
    "#total number of deaths for top 10 countries\n",
    "plt.figure(figsize=(14,8))\n",
    "\n",
    "plt.barh(df3['Entity'], \n",
    "        df3['Deaths'])\n",
    "\n",
    "plt.xlabel('Total number of deaths')\n",
    "plt.ylabel('Country')\n",
    "plt.title('Top 10 countries by highest number of deaths');"
   ]
  },
  {
   "cell_type": "markdown",
   "id": "3d1c065c",
   "metadata": {},
   "source": [
    "United States had the highest COVID-19 deaths of 513000 deaths, followed by Mexico and India."
   ]
  },
  {
   "cell_type": "markdown",
   "id": "98ad2bba",
   "metadata": {},
   "source": [
    "## Visualization 3: Top 10 countries by death rate"
   ]
  },
  {
   "cell_type": "code",
   "execution_count": 16,
   "id": "a06521e1",
   "metadata": {},
   "outputs": [
    {
     "data": {
      "text/html": [
       "<div>\n",
       "<style scoped>\n",
       "    .dataframe tbody tr th:only-of-type {\n",
       "        vertical-align: middle;\n",
       "    }\n",
       "\n",
       "    .dataframe tbody tr th {\n",
       "        vertical-align: top;\n",
       "    }\n",
       "\n",
       "    .dataframe thead th {\n",
       "        text-align: right;\n",
       "    }\n",
       "</style>\n",
       "<table border=\"1\" class=\"dataframe\">\n",
       "  <thead>\n",
       "    <tr style=\"text-align: right;\">\n",
       "      <th></th>\n",
       "      <th>Entity</th>\n",
       "      <th>Continent</th>\n",
       "      <th>Latitude</th>\n",
       "      <th>Longitude</th>\n",
       "      <th>Average temperature per year</th>\n",
       "      <th>Hospital beds per 1000 people</th>\n",
       "      <th>Medical doctors per 1000 people</th>\n",
       "      <th>GDP/Capita</th>\n",
       "      <th>Population</th>\n",
       "      <th>Median age</th>\n",
       "      <th>Population aged 65 and over (%)</th>\n",
       "      <th>Date</th>\n",
       "      <th>Daily tests</th>\n",
       "      <th>Cases</th>\n",
       "      <th>Deaths</th>\n",
       "      <th>Death rate</th>\n",
       "    </tr>\n",
       "  </thead>\n",
       "  <tbody>\n",
       "    <tr>\n",
       "      <th>0</th>\n",
       "      <td>Belgium</td>\n",
       "      <td>Europe</td>\n",
       "      <td>50.50</td>\n",
       "      <td>4.47</td>\n",
       "      <td>10</td>\n",
       "      <td>5.64</td>\n",
       "      <td>3.01</td>\n",
       "      <td>46420.7</td>\n",
       "      <td>11372068</td>\n",
       "      <td>41</td>\n",
       "      <td>19</td>\n",
       "      <td>2021-02-28</td>\n",
       "      <td>80815.0</td>\n",
       "      <td>771511.0</td>\n",
       "      <td>22077.0</td>\n",
       "      <td>0.001941</td>\n",
       "    </tr>\n",
       "    <tr>\n",
       "      <th>1</th>\n",
       "      <td>United Kingdom</td>\n",
       "      <td>Europe</td>\n",
       "      <td>55.38</td>\n",
       "      <td>-3.44</td>\n",
       "      <td>8</td>\n",
       "      <td>2.54</td>\n",
       "      <td>2.82</td>\n",
       "      <td>42330.1</td>\n",
       "      <td>66022273</td>\n",
       "      <td>40</td>\n",
       "      <td>18</td>\n",
       "      <td>2021-02-28</td>\n",
       "      <td>801949.0</td>\n",
       "      <td>4188827.0</td>\n",
       "      <td>123083.0</td>\n",
       "      <td>0.001864</td>\n",
       "    </tr>\n",
       "    <tr>\n",
       "      <th>2</th>\n",
       "      <td>Slovenia</td>\n",
       "      <td>Europe</td>\n",
       "      <td>46.15</td>\n",
       "      <td>15.00</td>\n",
       "      <td>11</td>\n",
       "      <td>4.50</td>\n",
       "      <td>2.82</td>\n",
       "      <td>25946.2</td>\n",
       "      <td>2066748</td>\n",
       "      <td>44</td>\n",
       "      <td>20</td>\n",
       "      <td>2021-02-28</td>\n",
       "      <td>46807.0</td>\n",
       "      <td>190081.0</td>\n",
       "      <td>3836.0</td>\n",
       "      <td>0.001856</td>\n",
       "    </tr>\n",
       "    <tr>\n",
       "      <th>3</th>\n",
       "      <td>Italy</td>\n",
       "      <td>Europe</td>\n",
       "      <td>41.87</td>\n",
       "      <td>12.57</td>\n",
       "      <td>14</td>\n",
       "      <td>3.18</td>\n",
       "      <td>4.02</td>\n",
       "      <td>33228.2</td>\n",
       "      <td>60551416</td>\n",
       "      <td>47</td>\n",
       "      <td>23</td>\n",
       "      <td>2021-02-28</td>\n",
       "      <td>353704.0</td>\n",
       "      <td>2925265.0</td>\n",
       "      <td>97699.0</td>\n",
       "      <td>0.001613</td>\n",
       "    </tr>\n",
       "    <tr>\n",
       "      <th>4</th>\n",
       "      <td>Portugal</td>\n",
       "      <td>Europe</td>\n",
       "      <td>39.40</td>\n",
       "      <td>-8.22</td>\n",
       "      <td>15</td>\n",
       "      <td>3.39</td>\n",
       "      <td>4.43</td>\n",
       "      <td>23252.1</td>\n",
       "      <td>10293718</td>\n",
       "      <td>46</td>\n",
       "      <td>22</td>\n",
       "      <td>2021-02-28</td>\n",
       "      <td>76965.0</td>\n",
       "      <td>804562.0</td>\n",
       "      <td>16317.0</td>\n",
       "      <td>0.001585</td>\n",
       "    </tr>\n",
       "  </tbody>\n",
       "</table>\n",
       "</div>"
      ],
      "text/plain": [
       "           Entity Continent  Latitude  Longitude  \\\n",
       "0         Belgium    Europe     50.50       4.47   \n",
       "1  United Kingdom    Europe     55.38      -3.44   \n",
       "2        Slovenia    Europe     46.15      15.00   \n",
       "3           Italy    Europe     41.87      12.57   \n",
       "4        Portugal    Europe     39.40      -8.22   \n",
       "\n",
       "   Average temperature per year  Hospital beds per 1000 people  \\\n",
       "0                            10                           5.64   \n",
       "1                             8                           2.54   \n",
       "2                            11                           4.50   \n",
       "3                            14                           3.18   \n",
       "4                            15                           3.39   \n",
       "\n",
       "   Medical doctors per 1000 people  GDP/Capita  Population  Median age  \\\n",
       "0                             3.01     46420.7    11372068          41   \n",
       "1                             2.82     42330.1    66022273          40   \n",
       "2                             2.82     25946.2     2066748          44   \n",
       "3                             4.02     33228.2    60551416          47   \n",
       "4                             4.43     23252.1    10293718          46   \n",
       "\n",
       "   Population aged 65 and over (%)       Date  Daily tests      Cases  \\\n",
       "0                               19 2021-02-28      80815.0   771511.0   \n",
       "1                               18 2021-02-28     801949.0  4188827.0   \n",
       "2                               20 2021-02-28      46807.0   190081.0   \n",
       "3                               23 2021-02-28     353704.0  2925265.0   \n",
       "4                               22 2021-02-28      76965.0   804562.0   \n",
       "\n",
       "     Deaths  Death rate  \n",
       "0   22077.0    0.001941  \n",
       "1  123083.0    0.001864  \n",
       "2    3836.0    0.001856  \n",
       "3   97699.0    0.001613  \n",
       "4   16317.0    0.001585  "
      ]
     },
     "execution_count": 16,
     "metadata": {},
     "output_type": "execute_result"
    }
   ],
   "source": [
    "#top 10 countries by death rate \n",
    "df4 = df.copy()\n",
    "df4['Death rate'] = df4['Deaths']/ df4['Population']\n",
    "df4 = df4.groupby('Entity').max().sort_values(by='Death rate',ascending=False)[:10].reset_index()\n",
    "df4.head()"
   ]
  },
  {
   "cell_type": "code",
   "execution_count": 17,
   "id": "26dc9be8",
   "metadata": {},
   "outputs": [
    {
     "data": {
      "text/plain": [
       "Text(0.5, 1.0, 'Top 10 countries by death rate')"
      ]
     },
     "execution_count": 17,
     "metadata": {},
     "output_type": "execute_result"
    },
    {
     "data": {
      "image/png": "[encoded data removed]",
      "text/plain": [
       "<Figure size 1008x576 with 1 Axes>"
      ]
     },
     "metadata": {
      "needs_background": "light"
     },
     "output_type": "display_data"
    }
   ],
   "source": [
    "#top 10 countries by death rate\n",
    "plt.figure(figsize=(14,8))\n",
    "\n",
    "plt.barh(df4['Entity'], \n",
    "        df4['Death rate'])\n",
    "\n",
    "plt.xlabel('Death rate')\n",
    "plt.ylabel('Country')\n",
    "plt.title('Top 10 countries by death rate')"
   ]
  },
  {
   "cell_type": "markdown",
   "id": "5189d6a9",
   "metadata": {},
   "source": [
    "Belgium had the highest COVID-19 death rate of 1.94 deaths per 1000 citizens, followed by United Kingdom and Slovenia."
   ]
  },
  {
   "cell_type": "markdown",
   "id": "05d2c444",
   "metadata": {},
   "source": [
    "# Export to SQLite3 database"
   ]
  },
  {
   "cell_type": "code",
   "execution_count": null,
   "id": "3a1e7faa",
   "metadata": {},
   "outputs": [],
   "source": [
    "#import sqlite3\n",
    "import sqlite3\n",
    "\n",
    "#create connection to sqlite3 database\n",
    "conn = sqlite3.connect(\"../test.sqlite\")\n",
    "\n",
    "#export/overwrite df to sqlite3 database\n",
    "df.to_sql(name='Covid19', con=conn, if_exists='replace', index=False)\n",
    "\n",
    "#closes connection\n",
    "conn.close()"
   ]
  },
  {
   "cell_type": "markdown",
   "id": "9a1450aa",
   "metadata": {},
   "source": [
    "## Retrieve data for Visualization 1"
   ]
  },
  {
   "cell_type": "code",
   "execution_count": null,
   "id": "1492e06e",
   "metadata": {},
   "outputs": [],
   "source": [
    "import pandas as pd\n",
    "import sqlite3\n",
    "\n",
    "#create connection to sqlite3 database\n",
    "conn = sqlite3.connect(\"../test.sqlite\")\n",
    "\n",
    "#read sqlite query into a pandas dataframe\n",
    "df = pd.read_sql_query(\"SELECT Entity, Cases from Covid19\", conn)\n",
    "\n",
    "#closes connection\n",
    "conn.close()"
   ]
  },
  {
   "cell_type": "markdown",
   "id": "477dbcd3",
   "metadata": {},
   "source": [
    "## Retrieve data for Visualization 2"
   ]
  },
  {
   "cell_type": "code",
   "execution_count": null,
   "id": "af964575",
   "metadata": {},
   "outputs": [],
   "source": [
    "import pandas as pd\n",
    "import sqlite3\n",
    "\n",
    "#create connection to sqlite3 database\n",
    "conn = sqlite3.connect(\"../test.sqlite\")\n",
    "\n",
    "#read sqlite query into a pandas dataframe\n",
    "df = pd.read_sql_query(\"SELECT Entity, Deaths from Covid19\", conn)\n",
    "\n",
    "#closes connection\n",
    "conn.close()"
   ]
  },
  {
   "cell_type": "markdown",
   "id": "d9dd4e7f",
   "metadata": {},
   "source": [
    "## Retrieve data for Visualization 3"
   ]
  },
  {
   "cell_type": "code",
   "execution_count": null,
   "id": "fe6f22e8",
   "metadata": {},
   "outputs": [],
   "source": [
    "import pandas as pd\n",
    "import sqlite3\n",
    "\n",
    "#create connection to sqlite3 database\n",
    "conn = sqlite3.connect(\"../test.sqlite\")\n",
    "\n",
    "#read sqlite query into a pandas dataframe\n",
    "df = pd.read_sql_query(\"SELECT Entity, Deaths, Population from Covid19\", conn)\n",
    "\n",
    "#closes connection\n",
    "conn.close()"
   ]
  }
 ],
 "metadata": {
  "kernelspec": {
   "display_name": "Python 3",
   "language": "python",
   "name": "python3"
  },
  "language_info": {
   "codemirror_mode": {
    "name": "ipython",
    "version": 3
   },
   "file_extension": ".py",
   "mimetype": "text/x-python",
   "name": "python",
   "nbconvert_exporter": "python",
   "pygments_lexer": "ipython3",
   "version": "3.8.8"
  }
 },
 "nbformat": 4,
 "nbformat_minor": 5
}
